{
 "cells": [
  {
   "cell_type": "code",
   "execution_count": 87,
   "metadata": {},
   "outputs": [],
   "source": [
    "import cv2"
   ]
  },
  {
   "cell_type": "code",
   "execution_count": 88,
   "metadata": {},
   "outputs": [],
   "source": [
    "photo = cv2.imread(\"two.jpg\")"
   ]
  },
  {
   "cell_type": "code",
   "execution_count": 85,
   "metadata": {},
   "outputs": [
    {
     "data": {
      "text/plain": [
       "(941, 941, 3)"
      ]
     },
     "execution_count": 85,
     "metadata": {},
     "output_type": "execute_result"
    }
   ],
   "source": [
    "photo.shape"
   ]
  },
  {
   "cell_type": "code",
   "execution_count": 86,
   "metadata": {},
   "outputs": [],
   "source": [
    "cv2.imshow(\"hii\", photo)\n",
    "cv2.waitKey()\n",
    "cv2.destroyAllWindows()"
   ]
  },
  {
   "cell_type": "code",
   "execution_count": 89,
   "metadata": {},
   "outputs": [],
   "source": [
    "# Create a rectangle around the face\n",
    "rphoto = cv2.rectangle(photo, (210,200), (480,510), [0,0,255], 5)"
   ]
  },
  {
   "cell_type": "code",
   "execution_count": 90,
   "metadata": {},
   "outputs": [],
   "source": [
    "cv2.imshow(\"hello\", rphoto)\n",
    "cv2.waitKey()\n",
    "cv2.destroyAllWindows()"
   ]
  },
  {
   "cell_type": "code",
   "execution_count": null,
   "metadata": {},
   "outputs": [],
   "source": []
  },
  {
   "cell_type": "markdown",
   "metadata": {},
   "source": [
    "### Face Detection"
   ]
  },
  {
   "cell_type": "code",
   "execution_count": 59,
   "metadata": {},
   "outputs": [
    {
     "data": {
      "text/plain": [
       "<CascadeClassifier 0000025CBC503270>"
      ]
     },
     "execution_count": 59,
     "metadata": {},
     "output_type": "execute_result"
    }
   ],
   "source": [
    "# Load Model \n",
    "model = cv2.CascadeClassifier('haarcascade_frontalface_default.xml')\n",
    "model"
   ]
  },
  {
   "cell_type": "code",
   "execution_count": 60,
   "metadata": {},
   "outputs": [
    {
     "data": {
      "text/plain": [
       "array([[615,  69,  69,  69],\n",
       "       [232, 260, 285, 285],\n",
       "       [585, 193, 226, 226]], dtype=int32)"
      ]
     },
     "execution_count": 60,
     "metadata": {},
     "output_type": "execute_result"
    }
   ],
   "source": [
    "# Detect Face\n",
    "face = model.detectMultiScale(photo)\n",
    "face"
   ]
  },
  {
   "cell_type": "code",
   "execution_count": 61,
   "metadata": {},
   "outputs": [
    {
     "data": {
      "text/plain": [
       "(3, 4)"
      ]
     },
     "execution_count": 61,
     "metadata": {},
     "output_type": "execute_result"
    }
   ],
   "source": [
    "face.shape"
   ]
  },
  {
   "cell_type": "code",
   "execution_count": 62,
   "metadata": {},
   "outputs": [
    {
     "data": {
      "text/plain": [
       "3"
      ]
     },
     "execution_count": 62,
     "metadata": {},
     "output_type": "execute_result"
    }
   ],
   "source": [
    "len(face)"
   ]
  },
  {
   "cell_type": "code",
   "execution_count": 69,
   "metadata": {
    "scrolled": true
   },
   "outputs": [
    {
     "data": {
      "text/plain": [
       "array([[[ 30,  29,  19],\n",
       "        [ 30,  29,  19],\n",
       "        [ 29,  29,  17],\n",
       "        ...,\n",
       "        [229, 243, 232],\n",
       "        [229, 243, 232],\n",
       "        [229, 243, 232]],\n",
       "\n",
       "       [[ 29,  28,  18],\n",
       "        [ 29,  28,  18],\n",
       "        [ 29,  29,  17],\n",
       "        ...,\n",
       "        [229, 243, 232],\n",
       "        [229, 243, 232],\n",
       "        [229, 243, 232]],\n",
       "\n",
       "       [[ 29,  28,  18],\n",
       "        [ 29,  28,  18],\n",
       "        [ 29,  28,  18],\n",
       "        ...,\n",
       "        [229, 243, 232],\n",
       "        [229, 243, 232],\n",
       "        [229, 243, 232]],\n",
       "\n",
       "       ...,\n",
       "\n",
       "       [[249, 249, 249],\n",
       "        [249, 249, 249],\n",
       "        [249, 249, 249],\n",
       "        ...,\n",
       "        [203, 212, 209],\n",
       "        [204, 213, 210],\n",
       "        [207, 214, 211]],\n",
       "\n",
       "       [[249, 249, 249],\n",
       "        [249, 249, 249],\n",
       "        [249, 249, 249],\n",
       "        ...,\n",
       "        [203, 212, 209],\n",
       "        [204, 213, 210],\n",
       "        [207, 214, 211]],\n",
       "\n",
       "       [[249, 249, 249],\n",
       "        [249, 249, 249],\n",
       "        [249, 249, 249],\n",
       "        ...,\n",
       "        [203, 212, 209],\n",
       "        [204, 213, 210],\n",
       "        [207, 214, 211]]], dtype=uint8)"
      ]
     },
     "execution_count": 69,
     "metadata": {},
     "output_type": "execute_result"
    }
   ],
   "source": [
    "aphoto = cv2.rectangle(photo, (232,260), (232+285,260+285), [255,0,0], 5)\n",
    "aphoto"
   ]
  },
  {
   "cell_type": "code",
   "execution_count": 70,
   "metadata": {},
   "outputs": [],
   "source": [
    "cv2.imshow(\"hello\", aphoto)\n",
    "cv2.waitKey()\n",
    "cv2.destroyAllWindows()"
   ]
  },
  {
   "cell_type": "code",
   "execution_count": null,
   "metadata": {},
   "outputs": [],
   "source": []
  },
  {
   "cell_type": "code",
   "execution_count": 81,
   "metadata": {},
   "outputs": [],
   "source": [
    "# Real Time Face Detection\n",
    "cap = cv2.VideoCapture(0)\n",
    "\n",
    "while True:\n",
    "    ret, photo = cap.read()\n",
    "    faces = model.detectMultiScale(photo)\n",
    "    if len(faces) == 0:\n",
    "        pass\n",
    "    else:\n",
    "        x1 = faces[0][0]\n",
    "        y1 = faces[0][1]\n",
    "        x2 = x1 + faces[0][2]\n",
    "        y2 = x2 + faces[0][3]\n",
    "        \n",
    "        aphoto = cv2.rectangle(photo, (x1,y1), (x2,y2), [255,0,0], 5)\n",
    "        cv2.imshow(\"hii\", aphoto)\n",
    "        \n",
    "        if cv2.waitKey(20) == 13:\n",
    "            break\n",
    "            \n",
    "cv2.destroyAllWindows()"
   ]
  },
  {
   "cell_type": "code",
   "execution_count": 82,
   "metadata": {},
   "outputs": [],
   "source": [
    "cap.release()"
   ]
  },
  {
   "cell_type": "code",
   "execution_count": 80,
   "metadata": {},
   "outputs": [
    {
     "data": {
      "text/plain": [
       "1"
      ]
     },
     "execution_count": 80,
     "metadata": {},
     "output_type": "execute_result"
    }
   ],
   "source": [
    "len(faces)"
   ]
  },
  {
   "cell_type": "code",
   "execution_count": null,
   "metadata": {},
   "outputs": [],
   "source": []
  }
 ],
 "metadata": {
  "kernelspec": {
   "display_name": "Python 3",
   "language": "python",
   "name": "python3"
  },
  "language_info": {
   "codemirror_mode": {
    "name": "ipython",
    "version": 3
   },
   "file_extension": ".py",
   "mimetype": "text/x-python",
   "name": "python",
   "nbconvert_exporter": "python",
   "pygments_lexer": "ipython3",
   "version": "3.8.3"
  }
 },
 "nbformat": 4,
 "nbformat_minor": 4
}
